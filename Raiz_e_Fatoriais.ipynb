{
  "nbformat": 4,
  "nbformat_minor": 0,
  "metadata": {
    "colab": {
      "provenance": [],
      "authorship_tag": "ABX9TyNpRdZR1ZfURCt+AuQcfiw4",
      "include_colab_link": true
    },
    "kernelspec": {
      "name": "python3",
      "display_name": "Python 3"
    },
    "language_info": {
      "name": "python"
    }
  },
  "cells": [
    {
      "cell_type": "markdown",
      "metadata": {
        "id": "view-in-github",
        "colab_type": "text"
      },
      "source": [
        "<a href=\"https://colab.research.google.com/github/JamillyVit0407/Linguagem-Python/blob/main/Raiz_e_Fatoriais.ipynb\" target=\"_parent\"><img src=\"https://colab.research.google.com/assets/colab-badge.svg\" alt=\"Open In Colab\"/></a>"
      ]
    },
    {
      "cell_type": "code",
      "source": [
        "import math\n",
        "num = float(input(\"Digite um número real: \"))\n",
        "absoluto= math.fabs(num)\n",
        "inteiro= math.trunc(num)\n",
        "raiz = math.sqrt(abs(absoluto))\n",
        "fatorial= math.factorial(inteiro)\n",
        "\n",
        "print(\"Absoluto: \",absoluto)\n",
        "print(\"Inteiro: \",inteiro)\n",
        "print(\"Raiz: \",raiz)\n",
        "print(\"Fatorial:\",fatorial)"
      ],
      "metadata": {
        "colab": {
          "base_uri": "https://localhost:8080/"
        },
        "id": "-2BUoBLdqVH9",
        "outputId": "7311374a-3c5f-4477-ff3d-2090b5583fcd"
      },
      "execution_count": null,
      "outputs": [
        {
          "output_type": "stream",
          "name": "stdout",
          "text": [
            "Digite um número real: 64\n",
            "Absoluto:  64.0\n",
            "Inteiro:  64\n",
            "Raiz:  8.0\n",
            "Fatorial: 126886932185884164103433389335161480802865516174545192198801894375214704230400000000000000\n"
          ]
        }
      ]
    }
  ]
}