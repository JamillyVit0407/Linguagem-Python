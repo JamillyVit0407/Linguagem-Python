{
  "nbformat": 4,
  "nbformat_minor": 0,
  "metadata": {
    "colab": {
      "provenance": [],
      "authorship_tag": "ABX9TyPnCgUJzlHNB/bQAoufChAk",
      "include_colab_link": true
    },
    "kernelspec": {
      "name": "python3",
      "display_name": "Python 3"
    },
    "language_info": {
      "name": "python"
    }
  },
  "cells": [
    {
      "cell_type": "markdown",
      "metadata": {
        "id": "view-in-github",
        "colab_type": "text"
      },
      "source": [
        "<a href=\"https://colab.research.google.com/github/JamillyVit0407/Linguagem-Python/blob/main/Math.ipynb\" target=\"_parent\"><img src=\"https://colab.research.google.com/assets/colab-badge.svg\" alt=\"Open In Colab\"/></a>"
      ]
    },
    {
      "cell_type": "code",
      "execution_count": null,
      "metadata": {
        "id": "2Q6rLUL9k1m2"
      },
      "outputs": [],
      "source": [
        "import math\n",
        "num = float(input(\"Digite um número: \"))\n",
        "resultado =math.sqrt(num)\n",
        "print(\"O valor da raiz quadrada é: \",resultado)"
      ]
    }
  ]
}