{
  "nbformat": 4,
  "nbformat_minor": 0,
  "metadata": {
    "colab": {
      "provenance": [],
      "authorship_tag": "ABX9TyMyyF9++yUUl0235gkX5vhC",
      "include_colab_link": true
    },
    "kernelspec": {
      "name": "python3",
      "display_name": "Python 3"
    },
    "language_info": {
      "name": "python"
    }
  },
  "cells": [
    {
      "cell_type": "markdown",
      "metadata": {
        "id": "view-in-github",
        "colab_type": "text"
      },
      "source": [
        "<a href=\"https://colab.research.google.com/github/JamillyVit0407/Linguagem-Python/blob/main/Aula_3.ipynb\" target=\"_parent\"><img src=\"https://colab.research.google.com/assets/colab-badge.svg\" alt=\"Open In Colab\"/></a>"
      ]
    },
    {
      "cell_type": "markdown",
      "source": [
        " Volume do tronco de uma pirâmide\n",
        ""
      ],
      "metadata": {
        "id": "jqZshsSAyr1c"
      }
    },
    {
      "cell_type": "code",
      "source": [
        "# Volume do tronco de uma pirâmide\n",
        "h = float(input(\"Digite a altura do tronco da pirâmide (h): \"))\n",
        "Bmenor = float(input(\"Digite o valor da base menor (Bmenor): \"))\n",
        "Bmaior = float(input(\"Digite o valor da base maior (Bmaior): \"))\n",
        "\n",
        "volume = h / 3 * (Bmaior**2 + Bmenor**2 + (Bmaior**2 * Bmenor**2) ** 0.5)\n",
        "print(f\"O volume do tronco da pirâmide é: {volume:.2f}\")\n"
      ],
      "metadata": {
        "colab": {
          "base_uri": "https://localhost:8080/"
        },
        "id": "BogAf3gBxRoE",
        "outputId": "764813fa-9a09-4ec7-86fb-3a0b7fea6ada"
      },
      "execution_count": 19,
      "outputs": [
        {
          "output_type": "stream",
          "name": "stdout",
          "text": [
            "Digite a altura do tronco da pirâmide (h): 64\n",
            "Digite o valor da base menor (Bmenor): 32\n",
            "Digite o valor da base maior (Bmaior): 78\n",
            "O volume do tronco da pirâmide é: 204885.33\n"
          ]
        }
      ]
    },
    {
      "cell_type": "markdown",
      "source": [
        "Converter horas em ninutos"
      ],
      "metadata": {
        "id": "XwvG77NFy37V"
      }
    },
    {
      "cell_type": "code",
      "source": [
        "# Converter horas em minutos\n",
        "horas = float(input(\"Digite o valor em horas: \"))\n",
        "minutos = horas * 60\n",
        "print(f\"{horas} horas equivalem a {minutos} minutos.\")\n"
      ],
      "metadata": {
        "colab": {
          "base_uri": "https://localhost:8080/"
        },
        "id": "0QhF7l1exYwy",
        "outputId": "5cecebd5-0cd2-4d88-caf8-47b517262408"
      },
      "execution_count": 20,
      "outputs": [
        {
          "output_type": "stream",
          "name": "stdout",
          "text": [
            "Digite o valor em horas: 12\n",
            "12.0 horas equivalem a 720.0 minutos.\n"
          ]
        }
      ]
    },
    {
      "cell_type": "markdown",
      "source": [
        "Calcular idade expressa em dias"
      ],
      "metadata": {
        "id": "Bv52m99MyH7M"
      }
    },
    {
      "cell_type": "code",
      "source": [
        "# Calcular idade expressa em dias\n",
        "anos = int(input(\"Digite sua idade em anos: \"))\n",
        "meses = int(input(\"Digite os meses: \"))\n",
        "dias = int(input(\"Digite os dias: \"))\n",
        "\n",
        "total_dias = anos * 365 + meses * 30 + dias\n",
        "print(f\"Sua idade expressa em dias é: {total_dias} dias.\")"
      ],
      "metadata": {
        "colab": {
          "base_uri": "https://localhost:8080/"
        },
        "id": "KnZnuq0TxrdQ",
        "outputId": "459197d9-76d0-4b95-c424-048c8b989e02"
      },
      "execution_count": 21,
      "outputs": [
        {
          "output_type": "stream",
          "name": "stdout",
          "text": [
            "Digite sua idade em anos: 21\n",
            "Digite os meses: 7\n",
            "Digite os dias: 23\n",
            "Sua idade expressa em dias é: 7898 dias.\n"
          ]
        }
      ]
    },
    {
      "cell_type": "markdown",
      "source": [
        "\n",
        " Calcular prestação em atraso\n"
      ],
      "metadata": {
        "id": "D8BXngwLzTNP"
      }
    },
    {
      "cell_type": "markdown",
      "source": [],
      "metadata": {
        "id": "BxAyCKeFzaA2"
      }
    },
    {
      "cell_type": "code",
      "source": [
        "# Calcular prestação em atraso\n",
        "valorPrestacao = float(input(\"Digite o valor da prestação: R$ \"))\n",
        "multa = float(input(\"Digite a porcentagem da multa (%): \"))\n",
        "qtdeDias = int(input(\"Digite a quantidade de dias de atraso: \"))\n",
        "\n",
        "prestacao = valorPrestacao + (valorPrestacao * (multa / 100) * qtdeDias)\n",
        "print(f\"O valor da prestação atualizada é: R$ {prestacao:.2f}\")\n"
      ],
      "metadata": {
        "colab": {
          "base_uri": "https://localhost:8080/"
        },
        "id": "UlYGcdeTx83d",
        "outputId": "ef9e919a-f456-48b2-a422-5483ba277ed8"
      },
      "execution_count": 22,
      "outputs": [
        {
          "output_type": "stream",
          "name": "stdout",
          "text": [
            "Digite o valor da prestação: R$ 6946\n",
            "Digite a porcentagem da multa (%): 3\n",
            "Digite a quantidade de dias de atraso: 15\n",
            "O valor da prestação atualizada é: R$ 10071.70\n"
          ]
        }
      ]
    },
    {
      "cell_type": "markdown",
      "source": [
        "Calcular seno, cosseno e tangente de um ângulo"
      ],
      "metadata": {
        "id": "9pLbo1QXzdNF"
      }
    },
    {
      "cell_type": "code",
      "source": [
        "# Calcular seno, cosseno e tangente de um ângulo\n",
        "import math\n",
        "\n",
        "graus = float(input(\"Digite o ângulo em graus: \"))\n",
        "radianos = math.radians(graus)\n",
        "\n",
        "seno = math.sin(radianos)\n",
        "cosseno = math.cos(radianos)\n",
        "tangente = math.tan(radianos)\n",
        "\n",
        "print(f\"Ângulo: {graus}°\")\n",
        "print(f\"Seno: {seno:.4f}\")\n",
        "print(f\"Cosseno: {cosseno:.4f}\")\n",
        "print(f\"Tangente: {tangente:.4f}\")\n"
      ],
      "metadata": {
        "colab": {
          "base_uri": "https://localhost:8080/"
        },
        "id": "H0G2QkHgyVTJ",
        "outputId": "d2fb7843-2881-4e16-bb30-a5b7da9a4868"
      },
      "execution_count": 23,
      "outputs": [
        {
          "output_type": "stream",
          "name": "stdout",
          "text": [
            "Digite o ângulo em graus: 46\n",
            "Ângulo: 46.0°\n",
            "Seno: 0.7193\n",
            "Cosseno: 0.6947\n",
            "Tangente: 1.0355\n"
          ]
        }
      ]
    }
  ]
}